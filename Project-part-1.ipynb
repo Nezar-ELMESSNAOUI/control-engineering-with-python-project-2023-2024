{
 "cells": [
  {
   "cell_type": "markdown",
   "metadata": {
    "tags": []
   },
   "source": [
    "# Self-Balancing Scooter Control\n",
    "\n",
    "![](images/self-balancing-scooter.png)\n",
    "\n",
    "> A self-balancing scooter [...] is a self-balancing personal transporter consisting of two motorized wheels connected to a pair of articulated pads on which the rider places their feet. The rider controls the speed by leaning forward or backward, and direction of travel by twisting the pads.\n",
    "> \n",
    "> Source: <https://en.wikipedia.org/wiki/Self-balancing_scooter>"
   ]
  },
  {
   "cell_type": "markdown",
   "metadata": {},
   "source": [
    "### Python Dependencies"
   ]
  },
  {
   "cell_type": "code",
   "execution_count": 7,
   "metadata": {},
   "outputs": [],
   "source": [
    "from numpy import *\n",
    "from numpy.linalg import *\n",
    "\n",
    "from scipy.linalg import *\n",
    "from scipy.integrate import *\n",
    "from scipy.signal import *\n",
    "\n",
    "from matplotlib.pyplot import *"
   ]
  },
  {
   "cell_type": "markdown",
   "metadata": {
    "tags": []
   },
   "source": [
    "Step 1 - Scooter Planar Model\n",
    "================================"
   ]
  },
  {
   "cell_type": "markdown",
   "metadata": {
    "tags": []
   },
   "source": [
    "### Introduction"
   ]
  },
  {
   "cell_type": "markdown",
   "metadata": {
    "tags": []
   },
   "source": [
    "We consider a simple model of a self-balancing scooter evolving in the plane. It is mainly made of\n",
    "\n",
    "  - The frame that contains the two articulated pads; from above, each pad essentially look like a triangle (one vertice in the center of the frame, one vertice at each extremity of the wheel).\n",
    "\n",
    "  - Two fixed wheels (their orientation with respect to the frame does not change). \n",
    "    They are parallel and located at opposite ends of the frame. \n",
    "    \n",
    "Let $(0, e_x, e_y)$ be a direct orthonormal frame of the plane. We denote \n",
    "\n",
    "  - $(x, y)$ the coordinates of the wheel axis center in the orthonormal and \n",
    "  - $\\theta$ the angle of the wheels direction with respect to vector $e_x$ ; with $\\theta = 0$ when the front of the scooter faces the right ($e_x$) and $\\theta = \\pi/2$ when it faces upwards ($e_y$).\n",
    "\n",
    "  - $\\phi_l$ and $\\phi_r$ the rotation angles of the left and right wheel respectively ; by convention, when these angles increase, the scooter moves forward."
   ]
  },
  {
   "cell_type": "markdown",
   "metadata": {
    "tags": []
   },
   "source": [
    "### Parameter Definition"
   ]
  },
  {
   "cell_type": "markdown",
   "metadata": {
    "tags": []
   },
   "source": [
    "From now on, we assume that the seat frame length is $\\ell = 50 \\text{ cm}$ and the wheel radius is $r = 12.5 \\text{ cm}$.\n",
    "\n",
    "🧩 Define the corresponding Python variables `l` and `r` (express every length in meters, and more generally in the sequel, always use the [international standard of units](https://en.wikipedia.org/wiki/SI_derived_unit)) for numerical values. "
   ]
  },
  {
   "cell_type": "code",
   "execution_count": 8,
   "metadata": {},
   "outputs": [],
   "source": [
    "l = 0.5\n",
    "r = 0.125"
   ]
  },
  {
   "cell_type": "markdown",
   "metadata": {},
   "source": [
    "### Graphical Representation\n",
    "\n",
    "🧩 Implement a function `draw_scooter` with arguments `x`, `y` and `theta` that draws a simple geometric model of the wheelchair (with a red frame and black fixed wheels) in the plane (top view) for arbitrary values of $(x, y)$ and $\\theta$. Use a green circle marker 50 cm in of the frame to indicate which way is forward.\n",
    "\n",
    "🗝️ **Hint.** Use the function `plot` of `matplotlib.pyplot`."
   ]
  },
  {
   "cell_type": "code",
   "execution_count": 9,
   "metadata": {},
   "outputs": [],
   "source": [
    "def draw_scooter(x, y, theta):\n",
    "\n",
    "    #Coordonates of the center of the right wheel\n",
    "    x1 = x + sin(theta)*l/2\n",
    "    y1 = y - cos(theta)*l/2\n",
    "\n",
    "    #Coordonates of the center of the left wheel\n",
    "    x2 = x - sin(theta)*l/2\n",
    "    y2 = y + cos(theta)*l/2\n",
    "\n",
    "    #Coordinates of the front and back of the right wheel\n",
    "    xr_1 = x1 - r*cos(theta)\n",
    "    xr_2 = x1 + r*cos(theta)\n",
    "    yr_1 = y1 - r*sin(theta)\n",
    "    yr_2 = y1 + r*sin(theta)\n",
    "\n",
    "    #Coordinates of the front and back of the left wheel\n",
    "    xl_1 = x2 - r*cos(theta)\n",
    "    xl_2 = x2 + r*cos(theta)\n",
    "    yl_1 = y2 - r*sin(theta)\n",
    "    yl_2 = y2 + r*sin(theta)\n",
    "\n",
    "    # Right wheel\n",
    "    xr = linspace(xr_1, xr_2)\n",
    "    yr = linspace(yr_1, yr_2)\n",
    "    #Left wheel\n",
    "    xl = linspace(xl_1, xl_2)\n",
    "    yl = linspace(yl_1, yl_2)\n",
    "\n",
    "    # Plot wheels as thick lines\n",
    "    plot(xr, yr, 'k-', linewidth = 4)\n",
    "    plot(xl, yl, 'k-', linewidth = 4)\n",
    "\n",
    "\n",
    "    # Plot pads (triangles)\n",
    "    fill([xr_1, xr_2, x, xr_1], [yr_1, yr_2, y, yr_1], 'r-')  # Right pad\n",
    "    fill([xl_1, xl_2, x, xl_1], [yl_1, yl_2, y, yl_1], 'r-')  # Left pad\n",
    "\n",
    "    # Green marker\n",
    "    x_m = x + 0.5*cos(theta)\n",
    "    y_m = y + 0.5*sin(theta)\n",
    "    \n",
    "    circle = Circle((x_m, y_m), 0.03, color='green', fill=True)\n",
    "    # Add the circle patch to the plot\n",
    "    gca().add_patch(circle)\n"
   ]
  },
  {
   "cell_type": "markdown",
   "metadata": {},
   "source": [
    "🧩 Represent the wheelchair when $(x, y, \\theta) = (0, 0, 0), (2, 2, \\pi/2), (0, 4, \\pi), (-2, 2, 3\\pi/2)$.\n",
    "\n",
    "🗝️ **Hint.** Use the following `draw_arena` function beforehand."
   ]
  },
  {
   "cell_type": "code",
   "execution_count": 10,
   "metadata": {},
   "outputs": [],
   "source": [
    "def draw_arena(xmin, xmax, ymin, ymax):\n",
    "    wh_ratio = (xmax - xmin) / (ymax - ymin)\n",
    "    figsize = fig_width, fig_height = 16, 16 / wh_ratio\n",
    "    figure(figsize=figsize)\n",
    "    axes = gca()\n",
    "    axes.axis([xmin, xmax, ymin, ymax])\n",
    "    axes.set_aspect(1)\n",
    "    xticks(arange(xmin, xmax+1, 1))\n",
    "    yticks(arange(ymin, ymax+1, 1))\n",
    "    grid(True)"
   ]
  },
  {
   "cell_type": "code",
   "execution_count": 11,
   "metadata": {},
   "outputs": [
    {
     "data": {
      "image/png": "[encoded data removed]",
      "text/plain": [
       "<Figure size 1600x960 with 1 Axes>"
      ]
     },
     "metadata": {},
     "output_type": "display_data"
    }
   ],
   "source": [
    "draw_arena(-5, 5, -1, 5)\n",
    "draw_scooter(0,0,0)\n",
    "draw_scooter(2, 2, pi/2)\n",
    "draw_scooter(0, 4, pi)\n",
    "draw_scooter(-2, 2, 3*pi/2)"
   ]
  },
  {
   "cell_type": "markdown",
   "metadata": {},
   "source": [
    "### Kinematic Modeling\n",
    "\n",
    "We assume that we can control the wheels angular velocities $\\omega_l = \\dot{\\phi}_l$ and $\\omega_r = \\dot{\\phi}_r$ (this is a *kinematic* model of the wheelchair).\n",
    "We also assume that the wheelchair fixed wheels roll without slipping. \n",
    "\n",
    "🧩 Establish the differential equations that relate $\\dot{x}$,\n",
    "$\\dot{y}$ and $\\dot{\\theta}$ with $\\omega_l$ and $\\omega_r$."
   ]
  },
  {
   "cell_type": "markdown",
   "metadata": {},
   "source": [
    "**Answer**\n",
    "\n",
    "The linear velocities of both wheels are given by: $V_l = r.\\omega_l$ and $V_r = r.\\omega_r$. While the velocity of the center of mass of the scooter is :\n",
    "$$\n",
    "V = \\frac{1}{2}(V_l+V_r)=\\frac{r}{2}(\\omega_l+\\omega_r)\n",
    "$$.\n",
    "\n",
    "Knowing that $\\dot x = V_x = Vcos(\\theta)$, $\\dot y = V_y=Vsin(\\theta)$ and $\\dot \\theta = \\frac{r}{\\ell}( \\omega_r-\\omega_l)$, where $\\dot x$ is the $x$ component of the velocity of the scooter, $\\dot y$ its $y$ component, and $\\dot \\theta$ the angular momentum of the scooter, we can write the differentiel equations that relate them to $\\omega_l$ and $\\omega_r$:\n",
    "\n",
    "$$\n",
    "\\begin{align*}\n",
    "\\dot{\\theta} &= \\frac{r}{\\ell} (\\omega_r - \\omega_l) \\\\\n",
    "\\dot{x} &= \\frac{r}{2} \\cos(\\theta)(\\omega_r + \\omega_l) \\\\\n",
    "\\dot{y} &= \\frac{r}{2} \\sin(\\theta)(\\omega_r + \\omega_l)\n",
    "\\end{align*}\n",
    "$$"
   ]
  },
  {
   "cell_type": "markdown",
   "metadata": {},
   "source": [
    "### Analysis\n",
    "\n",
    "🧩 Show that if $\\omega_l$ and $\\omega_r$ are continuously differentiable functions of $(x, y, \\theta)$ (which includes the case of constant inputs), this system is well-posed."
   ]
  },
  {
   "cell_type": "markdown",
   "metadata": {},
   "source": [
    "**Answer**\n",
    "\n",
    "When we model this problem as a vector field, each possible initial condition corresponds to a unique vector in the vector field. Because the vector field is continuously differentiable, the existence and uniqueness theorem for ordinary differential equations guarantee that there is exactly one trajectory passing through each point in the initial condition space. In other words, for any given initial condition, there exists a unique solution to the system of differential equations. So, indeed, the system is well-posed."
   ]
  },
  {
   "cell_type": "markdown",
   "metadata": {},
   "source": [
    "🧩 Show that if $\\omega_l$ and $\\omega_r$ are constants, the maximal solution associated to any initial state is global. Is is still true of $\\omega_l$ and $\\omega_r$ are arbitrary continuously differentiable functions of $(x, y, \\theta)$ ?"
   ]
  },
  {
   "cell_type": "markdown",
   "metadata": {},
   "source": [
    "**Answer**\n",
    "\n",
    "<u>Case 1: $\\omega_l$ and $\\omega_r$ are constants:</u>\n",
    "\n",
    "When $\\omega_l$ and $\\omega_r$ are constants, the system of equations becomes time-independent, and we essentially have a set of autonomous ordinary differential equations. In this case, the solution trajectory is uniquely determined and extends for all time $t$. Therefore, the maximal solution associated with any initial state is indeed global.\n",
    "\n",
    "<u>Case 2: $\\omega_l$ and $\\omega_r$ are arbitrary continuously differentiable functions of $(x, y, \\theta)$:</u>\n",
    "\n",
    "When $\\omega_l$ and $\\omega_r$ are arbitrary continuously differentiable functions of $(x, y, \\theta)$, the system becomes time-dependent, and the solution trajectories may vary depending on the functions $\\omega_l$ and $\\omega_r$ as well as the initial conditions.\n",
    "\n",
    "In this case, the global existence and uniqueness of solutions are not guaranteed. The behavior of the system can be more complex, and the trajectories may not extend globally for all initial conditions."
   ]
  },
  {
   "cell_type": "markdown",
   "metadata": {},
   "source": [
    "### Vector Field\n",
    "\n",
    "In the sequel, `omega` is a function that computes the input vector $\\omega := (\\omega_l, \\omega_r)$ given the time $t$ and $(x, y, \\theta)$ (thus, it may depend on the time and/or on the system state if needed). For example:"
   ]
  },
  {
   "cell_type": "code",
   "execution_count": 6,
   "metadata": {},
   "outputs": [],
   "source": [
    "def omega(t, xytheta):\n",
    "    omega_l = (1 - l/4) * pi / r\n",
    "    omega_r = (1 + l/4) * pi / r\n",
    "    return array([omega_l, omega_r])"
   ]
  },
  {
   "cell_type": "markdown",
   "metadata": {},
   "source": [
    "🧩 Implement a function `fun(t, xytheta)` that computes $(\\dot{x}, \\dot{y}, \\dot{\\theta})$ given the time $t$ and $(x,y,\\theta)$ (and implicitly the inputs $\\omega$ computed by the function `omega`)."
   ]
  },
  {
   "cell_type": "code",
   "execution_count": 1,
   "metadata": {},
   "outputs": [],
   "source": [
    "pass"
   ]
  },
  {
   "cell_type": "markdown",
   "metadata": {},
   "source": [
    "### Simulation Setup\n",
    "\n",
    "🧩 Simulate the wheelchair dynamics for 4 seconds when $(x_0, y_0, \\theta_0)(t=0) = (0.0, 0.0, 0.0)$,\n",
    "and the wheels velocities are the constants $\\omega_l = (1 - \\ell/4)  \\pi / r \\text{ rad/s}$ and $\\omega_r = (1 + \\ell/4)  \\pi / r \\text{ rad/s}$.\n",
    "(Compute the dense outputs.)\n",
    "   "
   ]
  },
  {
   "cell_type": "code",
   "execution_count": 2,
   "metadata": {},
   "outputs": [],
   "source": [
    "pass"
   ]
  },
  {
   "cell_type": "markdown",
   "metadata": {},
   "source": [
    "🧩 Use the simulation results to draw the graphs of $x(t)$, $y(t)$ and $\\theta(t)$."
   ]
  },
  {
   "cell_type": "code",
   "execution_count": 3,
   "metadata": {},
   "outputs": [],
   "source": [
    "pass"
   ]
  },
  {
   "cell_type": "markdown",
   "metadata": {},
   "source": [
    "🧩 Use the simulation results to display the robot location every 0.5 second."
   ]
  },
  {
   "cell_type": "code",
   "execution_count": 4,
   "metadata": {},
   "outputs": [],
   "source": [
    "pass"
   ]
  },
  {
   "cell_type": "markdown",
   "metadata": {},
   "source": [
    "🧩 What should be the analytical expression of $x(t)$, $y(t)$ and $\\theta(t)$? "
   ]
  },
  {
   "cell_type": "markdown",
   "metadata": {},
   "source": [
    "**TODO**"
   ]
  },
  {
   "cell_type": "markdown",
   "metadata": {},
   "source": [
    "🧩 Do you experimental results match the theoretical results ? Draw the curves of the simulation error at time $t$ for $x$, $y$ and $\\theta$."
   ]
  },
  {
   "cell_type": "code",
   "execution_count": 5,
   "metadata": {},
   "outputs": [],
   "source": [
    "pass"
   ]
  },
  {
   "cell_type": "markdown",
   "metadata": {},
   "source": [
    "🧩 If needed, adjust the simulation parameters the simulated position error is less than $1\\, \\mathrm{ mm}$. "
   ]
  },
  {
   "cell_type": "code",
   "execution_count": 6,
   "metadata": {},
   "outputs": [],
   "source": [
    "pass"
   ]
  }
 ],
 "metadata": {
  "kernelspec": {
   "display_name": "Python 3 (ipykernel)",
   "language": "python",
   "name": "python3"
  },
  "language_info": {
   "codemirror_mode": {
    "name": "ipython",
    "version": 3
   },
   "file_extension": ".py",
   "mimetype": "text/x-python",
   "name": "python",
   "nbconvert_exporter": "python",
   "pygments_lexer": "ipython3",
   "version": "3.11.5"
  }
 },
 "nbformat": 4,
 "nbformat_minor": 4
}
